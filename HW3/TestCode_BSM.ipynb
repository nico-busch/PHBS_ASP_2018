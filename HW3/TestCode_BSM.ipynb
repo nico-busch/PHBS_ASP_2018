{
 "cells": [
  {
   "cell_type": "markdown",
   "metadata": {
    "collapsed": true
   },
   "source": [
    "# Test BSM model implementation\n",
    "Repeat the same for normal model implementation"
   ]
  },
  {
   "cell_type": "code",
   "execution_count": 1,
   "metadata": {},
   "outputs": [],
   "source": [
    "import numpy as np"
   ]
  },
  {
   "cell_type": "code",
   "execution_count": 2,
   "metadata": {},
   "outputs": [],
   "source": [
    "# import\n",
    "from option_models import bsm\n",
    "from option_models import normal"
   ]
  },
  {
   "cell_type": "code",
   "execution_count": 3,
   "metadata": {},
   "outputs": [
    {
     "data": {
      "text/plain": [
       "<module 'option_models.normal' from 'C:\\\\Users\\\\nicol\\\\Documents\\\\GitHub\\\\PHBS_ASP_2018\\\\HW3\\\\option_models\\\\normal.py'>"
      ]
     },
     "execution_count": 3,
     "metadata": {},
     "output_type": "execute_result"
    }
   ],
   "source": [
    "### only run this when you changed the class definition\n",
    "import imp\n",
    "imp.reload(bsm)\n",
    "imp.reload(normal)"
   ]
  },
  {
   "cell_type": "markdown",
   "metadata": {
    "collapsed": true
   },
   "source": [
    "### Price"
   ]
  },
  {
   "cell_type": "code",
   "execution_count": 4,
   "metadata": {},
   "outputs": [],
   "source": [
    "# create model\n",
    "bsm1 = bsm.BsmModel(0.2)"
   ]
  },
  {
   "cell_type": "code",
   "execution_count": 5,
   "metadata": {},
   "outputs": [
    {
     "name": "stdout",
     "output_type": "stream",
     "text": [
      "3.1062836665495652\n"
     ]
    }
   ],
   "source": [
    "# price\n",
    "strike = 102\n",
    "spot = 100\n",
    "texp = 0.25\n",
    "\n",
    "price = bsm1.price(strike=strike, spot=spot, texp=texp, cp_sign=1)\n",
    "print(price)\n",
    "assert( abs(price - 3.10628366655) < 1e-10 )"
   ]
  },
  {
   "cell_type": "markdown",
   "metadata": {},
   "source": [
    "### Implied vol"
   ]
  },
  {
   "cell_type": "code",
   "execution_count": 6,
   "metadata": {},
   "outputs": [],
   "source": [
    "# Randomly generate spot/strike/expiry/intr/divr/cp_sign\n",
    "# Then test implied volatility\n",
    "\n",
    "for k in range(100):\n",
    "    spot = np.random.uniform(80,100)\n",
    "    strike = np.random.uniform(80,100)\n",
    "    vol = np.random.uniform(0.0001, 0.4)\n",
    "    texp = np.random.uniform(0.1, 5)\n",
    "    intr = np.random.uniform(0, 0.3)\n",
    "    divr = np.random.uniform(0, 0.3)\n",
    "    cp_sign = 1 if np.random.rand() > 0.5 else -1\n",
    "\n",
    "    #print( spot, strike, vol, texp, intr, divr, cp_sign)\n",
    "\n",
    "    bsm2 = bsm.BsmModel(vol=vol, intr=intr, divr=divr)\n",
    "    price = bsm2.price(strike, spot, texp, cp_sign )\n",
    "    \n",
    "    # get implied vol\n",
    "    vol_imp = bsm2.impvol(price, strike, spot, texp=texp, cp_sign=cp_sign)\n",
    "    \n",
    "    # now price option with the obtained implied vol\n",
    "    bsm2.vol = vol_imp\n",
    "    price_imp = bsm2.price(strike, spot, texp, cp_sign )\n",
    "    \n",
    "    # compare the two prices\n",
    "    assert( abs(price - price_imp) < 1e-8 )"
   ]
  },
  {
   "cell_type": "markdown",
   "metadata": {
    "scrolled": true
   },
   "source": [
    "### Delta\n",
    "Verify delta by comparing numerical derivative"
   ]
  },
  {
   "cell_type": "code",
   "execution_count": 7,
   "metadata": {},
   "outputs": [],
   "source": [
    "strike = 102\n",
    "spot = 100\n",
    "texp = 0.25"
   ]
  },
  {
   "cell_type": "code",
   "execution_count": 8,
   "metadata": {},
   "outputs": [
    {
     "data": {
      "text/plain": [
       "(0.4411610169119095, 0.4411610170507174)"
      ]
     },
     "execution_count": 8,
     "metadata": {},
     "output_type": "execute_result"
    }
   ],
   "source": [
    "delta = bsm1.delta(strike=strike, spot=spot, texp=texp, cp_sign=1)\n",
    "h = 1e-6\n",
    "price_up = bsm1.price(strike=strike, spot=spot+h, texp=texp, cp_sign=1)\n",
    "price_dn = bsm1.price(strike=strike, spot=spot-h, texp=texp, cp_sign=1)\n",
    "delta_numeric = ( price_up - price_dn )/(2*h)\n",
    "assert( abs(delta - delta_numeric) < 1e-6 )\n",
    "delta, delta_numeric"
   ]
  },
  {
   "cell_type": "markdown",
   "metadata": {},
   "source": [
    "### Vega\n",
    "Do similar verification"
   ]
  },
  {
   "cell_type": "code",
   "execution_count": 9,
   "metadata": {},
   "outputs": [
    {
     "data": {
      "text/plain": [
       "(19.72976843913797, 19.72976843944707)"
      ]
     },
     "execution_count": 9,
     "metadata": {},
     "output_type": "execute_result"
    }
   ],
   "source": [
    "vega = bsm1.vega(strike=strike, spot=spot, texp=texp, cp_sign=1)\n",
    "h = 1e-6\n",
    "bsm1.vol = 0.2+h\n",
    "price_up = bsm1.price(strike=strike, spot=spot, texp=texp, cp_sign=1)\n",
    "bsm1.vol = 0.2-h\n",
    "price_dn = bsm1.price(strike=strike, spot=spot, texp=texp, cp_sign=1)\n",
    "vega_numeric = (price_up - price_dn) / (2 * h)\n",
    "assert(abs(vega-vega_numeric) < 1e-6)\n",
    "vega, vega_numeric"
   ]
  },
  {
   "cell_type": "markdown",
   "metadata": {
    "collapsed": true
   },
   "source": [
    "### Gamma\n",
    "Do similar verification"
   ]
  },
  {
   "cell_type": "code",
   "execution_count": 10,
   "metadata": {
    "scrolled": true
   },
   "outputs": [
    {
     "data": {
      "text/plain": [
       "(0.03945953687827594, 0.03945953663819779)"
      ]
     },
     "execution_count": 10,
     "metadata": {},
     "output_type": "execute_result"
    }
   ],
   "source": [
    "bsm1.vol = 0.2\n",
    "gamma = bsm1.gamma(strike=strike, spot=spot, texp=texp, cp_sign=1)\n",
    "h = 1e-6\n",
    "price_up = bsm1.delta(strike=strike, spot=spot+h, texp=texp, cp_sign=1)\n",
    "price_dn = bsm1.delta(strike=strike, spot=spot-h, texp=texp, cp_sign=1)\n",
    "gamma_numeric = (price_up - price_dn) / (2 * h)\n",
    "assert(abs(gamma-gamma_numeric) < 1e-6)\n",
    "gamma, gamma_numeric"
   ]
  },
  {
   "cell_type": "markdown",
   "metadata": {},
   "source": [
    "# Normal model implementation"
   ]
  },
  {
   "cell_type": "markdown",
   "metadata": {
    "collapsed": true
   },
   "source": [
    "### Price"
   ]
  },
  {
   "cell_type": "code",
   "execution_count": 11,
   "metadata": {},
   "outputs": [],
   "source": [
    "# create model\n",
    "norm1 = normal.NormalModel(20)"
   ]
  },
  {
   "cell_type": "code",
   "execution_count": 12,
   "metadata": {},
   "outputs": [
    {
     "name": "stdout",
     "output_type": "stream",
     "text": [
      "3.0689463586327648\n"
     ]
    }
   ],
   "source": [
    "# price\n",
    "strike = 102\n",
    "spot = 100\n",
    "texp = 0.25\n",
    "\n",
    "price = norm1.price(strike=strike, spot=spot, texp=texp, cp_sign=1)\n",
    "print(price)"
   ]
  },
  {
   "cell_type": "markdown",
   "metadata": {},
   "source": [
    "### Implied vol"
   ]
  },
  {
   "cell_type": "code",
   "execution_count": 13,
   "metadata": {},
   "outputs": [],
   "source": [
    "# Randomly generate spot/strike/expiry/intr/divr/cp_sign\n",
    "# Then test implied volatility\n",
    "\n",
    "for k in range(100):\n",
    "    spot = np.random.uniform(80,100)\n",
    "    strike = np.random.uniform(80,100)\n",
    "    vol = np.random.uniform(0.0001, 0.4)\n",
    "    texp = np.random.uniform(0.1, 5)\n",
    "    intr = np.random.uniform(0, 0.3)\n",
    "    divr = np.random.uniform(0, 0.3)\n",
    "    cp_sign = 1 if np.random.rand() > 0.5 else -1\n",
    "\n",
    "    #print( spot, strike, vol, texp, intr, divr, cp_sign)\n",
    "\n",
    "    norm2 = normal.NormalModel(vol=vol*spot, intr=intr, divr=divr)\n",
    "    price = norm2.price(strike, spot, texp, cp_sign )\n",
    "    \n",
    "    # get implied vol\n",
    "    vol_imp = norm2.impvol(price, strike, spot, texp=texp, cp_sign=cp_sign)\n",
    "    \n",
    "    # now price option with the obtained implied vol\n",
    "    norm2.vol = vol_imp\n",
    "    price_imp = norm2.price(strike, spot, texp, cp_sign )\n",
    "    \n",
    "    # compare the two prices\n",
    "    assert( abs(price - price_imp) < 1e-8 )"
   ]
  },
  {
   "cell_type": "markdown",
   "metadata": {
    "scrolled": true
   },
   "source": [
    "### Delta\n",
    "Verify delta by comparing numerical derivative"
   ]
  },
  {
   "cell_type": "code",
   "execution_count": 14,
   "metadata": {},
   "outputs": [],
   "source": [
    "strike = 102\n",
    "spot = 100\n",
    "texp = 0.25"
   ]
  },
  {
   "cell_type": "code",
   "execution_count": 15,
   "metadata": {},
   "outputs": [
    {
     "data": {
      "text/plain": [
       "(0.42074029056089696, 0.42074028927530094)"
      ]
     },
     "execution_count": 15,
     "metadata": {},
     "output_type": "execute_result"
    }
   ],
   "source": [
    "delta = norm1.delta(strike=strike, spot=spot, texp=texp, cp_sign=1)\n",
    "h = 1e-6\n",
    "price_up = norm1.price(strike=strike, spot=spot+h, texp=texp, cp_sign=1)\n",
    "price_dn = norm1.price(strike=strike, spot=spot-h, texp=texp, cp_sign=1)\n",
    "delta_numeric = ( price_up - price_dn )/(2*h)\n",
    "assert( abs(delta - delta_numeric) < 1e-6 )\n",
    "delta, delta_numeric"
   ]
  },
  {
   "cell_type": "markdown",
   "metadata": {},
   "source": [
    "### Vega\n",
    "Do similar verification"
   ]
  },
  {
   "cell_type": "code",
   "execution_count": 16,
   "metadata": {},
   "outputs": [
    {
     "data": {
      "text/plain": [
       "(0.19552134698772794, 0.19552134755684847)"
      ]
     },
     "execution_count": 16,
     "metadata": {},
     "output_type": "execute_result"
    }
   ],
   "source": [
    "vega = norm1.vega(strike=strike, spot=spot, texp=texp, cp_sign=1)\n",
    "h = 1e-6\n",
    "norm1.vol = 20+h\n",
    "price_up = norm1.price(strike=strike, spot=spot, texp=texp, cp_sign=1)\n",
    "norm1.vol = 20-h\n",
    "price_dn = norm1.price(strike=strike, spot=spot, texp=texp, cp_sign=1)\n",
    "vega_numeric = (price_up - price_dn) / (2 * h)\n",
    "assert(abs(vega-vega_numeric) < 1e-6)\n",
    "vega, vega_numeric"
   ]
  },
  {
   "cell_type": "markdown",
   "metadata": {
    "collapsed": true
   },
   "source": [
    "### Gamma\n",
    "Do similar verification"
   ]
  },
  {
   "cell_type": "code",
   "execution_count": 17,
   "metadata": {
    "scrolled": true
   },
   "outputs": [
    {
     "data": {
      "text/plain": [
       "(0.03910426939754559, 0.039104269294876204)"
      ]
     },
     "execution_count": 17,
     "metadata": {},
     "output_type": "execute_result"
    }
   ],
   "source": [
    "norm1.vol = 20\n",
    "gamma = norm1.gamma(strike=strike, spot=spot, texp=texp, cp_sign=1)\n",
    "h = 1e-6\n",
    "price_up = norm1.delta(strike=strike, spot=spot+h, texp=texp, cp_sign=1)\n",
    "price_dn = norm1.delta(strike=strike, spot=spot-h, texp=texp, cp_sign=1)\n",
    "gamma_numeric = (price_up - price_dn) / (2 * h)\n",
    "assert(abs(gamma-gamma_numeric) < 1e-6)\n",
    "gamma, gamma_numeric"
   ]
  }
 ],
 "metadata": {
  "anaconda-cloud": {},
  "kernelspec": {
   "display_name": "Python 3",
   "language": "python",
   "name": "python3"
  },
  "language_info": {
   "codemirror_mode": {
    "name": "ipython",
    "version": 3
   },
   "file_extension": ".py",
   "mimetype": "text/x-python",
   "name": "python",
   "nbconvert_exporter": "python",
   "pygments_lexer": "ipython3",
   "version": "3.6.5"
  }
 },
 "nbformat": 4,
 "nbformat_minor": 1
}
